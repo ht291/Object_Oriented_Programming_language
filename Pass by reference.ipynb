{
 "cells": [
  {
   "cell_type": "markdown",
   "id": "0c62c420",
   "metadata": {},
   "source": [
    "###  \"pass by reference\" involves passing a reference or memory address of the variable. This means that changes made to the parameter inside the function will affect the original variable outside the function."
   ]
  },
  {
   "cell_type": "code",
   "execution_count": 2,
   "id": "8452ce7c",
   "metadata": {},
   "outputs": [],
   "source": [
    "class Customer:\n",
    "        \n",
    "        def __init__ (self,name,gender):\n",
    "            self.name = name\n",
    "            self.gender = gender\n",
    "            \n",
    "def greet(customer):\n",
    "    if customer.gender ==\"Male\":\n",
    "        print(\"Hello\",customer.name,\"sir\")\n",
    "    else:\n",
    "        print(\"Hello\".customer.name,\"ma'am\")\n",
    "        \n"
   ]
  },
  {
   "cell_type": "code",
   "execution_count": 4,
   "id": "f178d397",
   "metadata": {},
   "outputs": [],
   "source": [
    "cust = Customer(\"harsh\",\"Male\")"
   ]
  },
  {
   "cell_type": "code",
   "execution_count": 5,
   "id": "3b4fce92",
   "metadata": {},
   "outputs": [
    {
     "name": "stdout",
     "output_type": "stream",
     "text": [
      "Hello harsh sir\n"
     ]
    }
   ],
   "source": [
    "greet(cust)"
   ]
  },
  {
   "cell_type": "code",
   "execution_count": 7,
   "id": "45c6d27a",
   "metadata": {},
   "outputs": [],
   "source": [
    "# class ke objects are also mutable like lists,dict and sets\n",
    "# for example\n",
    "\n",
    "def change(L):\n",
    "    print(id(L))\n",
    "    L.append(5)\n",
    "    print(id(L))"
   ]
  },
  {
   "cell_type": "code",
   "execution_count": 8,
   "id": "e9e33785",
   "metadata": {},
   "outputs": [
    {
     "name": "stdout",
     "output_type": "stream",
     "text": [
      "1961765192256\n"
     ]
    }
   ],
   "source": [
    "L1 = [1,2,3,4]\n",
    "print(id(L1))"
   ]
  },
  {
   "cell_type": "code",
   "execution_count": 9,
   "id": "b71244c1",
   "metadata": {},
   "outputs": [
    {
     "name": "stdout",
     "output_type": "stream",
     "text": [
      "[1, 2, 3, 4]\n"
     ]
    }
   ],
   "source": [
    "print(L1)"
   ]
  },
  {
   "cell_type": "code",
   "execution_count": 10,
   "id": "dbf4d47e",
   "metadata": {},
   "outputs": [
    {
     "name": "stdout",
     "output_type": "stream",
     "text": [
      "1961765192256\n",
      "1961765192256\n"
     ]
    }
   ],
   "source": [
    "change(L1)"
   ]
  },
  {
   "cell_type": "code",
   "execution_count": 11,
   "id": "f70bc757",
   "metadata": {},
   "outputs": [
    {
     "name": "stdout",
     "output_type": "stream",
     "text": [
      "[1, 2, 3, 4, 5]\n"
     ]
    }
   ],
   "source": [
    "print(L1)"
   ]
  },
  {
   "cell_type": "code",
   "execution_count": null,
   "id": "c2e2b6b2",
   "metadata": {},
   "outputs": [],
   "source": []
  }
 ],
 "metadata": {
  "kernelspec": {
   "display_name": "Python 3 (ipykernel)",
   "language": "python",
   "name": "python3"
  },
  "language_info": {
   "codemirror_mode": {
    "name": "ipython",
    "version": 3
   },
   "file_extension": ".py",
   "mimetype": "text/x-python",
   "name": "python",
   "nbconvert_exporter": "python",
   "pygments_lexer": "ipython3",
   "version": "3.10.9"
  }
 },
 "nbformat": 4,
 "nbformat_minor": 5
}
