{
 "cells": [
  {
   "cell_type": "markdown",
   "id": "d7531b00",
   "metadata": {},
   "source": [
    "### Inheriting Constructor"
   ]
  },
  {
   "cell_type": "code",
   "execution_count": 2,
   "id": "2ca6e406",
   "metadata": {},
   "outputs": [
    {
     "name": "stdout",
     "output_type": "stream",
     "text": [
      "Inside phone constructor\n",
      "Apple\n"
     ]
    }
   ],
   "source": [
    "class Phone:\n",
    "    \n",
    "    def __init__(self,price,brand,camera):\n",
    "        print(\"Inside phone constructor\")\n",
    "        self.price=price\n",
    "        self.brand = brand\n",
    "        self.camera = camera\n",
    "        \n",
    "    def buy(Self):\n",
    "        print(\"Buying a phone\")\n",
    "        \n",
    "    def return_phone(self):\n",
    "        print(\"Returning a phone\")\n",
    "        \n",
    "class FeaturePhone(Phone):\n",
    "    pass\n",
    "class SmartPhone(Phone):\n",
    "    pass\n",
    "\n",
    "s=SmartPhone(20000,\"Apple\",13)\n",
    "print(s.brand)"
   ]
  },
  {
   "cell_type": "markdown",
   "id": "b0852611",
   "metadata": {},
   "source": [
    "### Inheriting Private Members"
   ]
  },
  {
   "cell_type": "code",
   "execution_count": 8,
   "id": "55380641",
   "metadata": {},
   "outputs": [
    {
     "name": "stdout",
     "output_type": "stream",
     "text": [
      "Inside phone constructor\n",
      "Apple\n"
     ]
    }
   ],
   "source": [
    "class Phone:\n",
    "    def __init__(self, price, brand, camera):\n",
    "        print(\"Inside phone constructor\")\n",
    "        self.price = price\n",
    "        self.__brand = brand\n",
    "        self.camera = camera\n",
    "\n",
    "    def get_brand(self):\n",
    "        return self.__brand\n",
    "\n",
    "\n",
    "class SmartPhone(Phone):\n",
    "    pass\n",
    "\n",
    "s = SmartPhone(20000, \"Apple\", 13)\n",
    "print(s.get_brand())  # Accessing the private attribute using a method\n"
   ]
  },
  {
   "cell_type": "code",
   "execution_count": null,
   "id": "23a88a7b",
   "metadata": {},
   "outputs": [],
   "source": []
  }
 ],
 "metadata": {
  "kernelspec": {
   "display_name": "Python 3 (ipykernel)",
   "language": "python",
   "name": "python3"
  },
  "language_info": {
   "codemirror_mode": {
    "name": "ipython",
    "version": 3
   },
   "file_extension": ".py",
   "mimetype": "text/x-python",
   "name": "python",
   "nbconvert_exporter": "python",
   "pygments_lexer": "ipython3",
   "version": "3.10.9"
  }
 },
 "nbformat": 4,
 "nbformat_minor": 5
}
