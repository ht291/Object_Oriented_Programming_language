{
 "cells": [
  {
   "cell_type": "code",
   "execution_count": 1,
   "id": "ab681533",
   "metadata": {},
   "outputs": [],
   "source": [
    "# Method: It is a special function written inside a class"
   ]
  },
  {
   "cell_type": "code",
   "execution_count": 7,
   "id": "cc5403c9",
   "metadata": {},
   "outputs": [],
   "source": [
    "class ATM:\n",
    "\n",
    "    def __init__(self):    # __init__ is a constructor\n",
    "        self.pin = \"\"\n",
    "        self.balance = 0\n",
    "        self.menu()\n",
    "\n",
    "    def menu(self):\n",
    "        user_input = input(\"\"\" Hello, how would you like to proceed?\n",
    "                               1. Enter 1 to create pin\n",
    "                               2. Enter 2 to deposit\n",
    "                               3. Enter 3 to withdraw\n",
    "                               4. Enter 4 to check balance\n",
    "                               5. Enter 5 to exit\n",
    "\"\"\")\n",
    "        \n",
    "        if user_input == \"1\":\n",
    "            self.create_pin() \n",
    "        elif user_input == \"2\":\n",
    "            self.deposit()\n",
    "        elif user_input == \"3\":\n",
    "            self.withdraw()\n",
    "        elif user_input == \"4\":\n",
    "            self.check_balance()\n",
    "        else:\n",
    "            print(\"Bye\")\n",
    "            \n",
    "            \n",
    "    def create_pin(self):\n",
    "        self.pin = input(\"Enter your pin\")\n",
    "        print(\"Pin set sucessfully\")\n",
    "        \n",
    "    def deposit(self):\n",
    "        temp=input(\"Enter your pin\")\n",
    "        if temp == self.pin:\n",
    "            amount = int(input(\"Enter the amount\"))\n",
    "            self.balance = self.balance + amount\n",
    "            print(\"Deposit Successful\")\n",
    "        else:\n",
    "            print(\"Invalid pin\")\n",
    "\n",
    "            \n",
    "    def withdraw(self):\n",
    "        temp = input(\"Enter your pin\")\n",
    "        if temp == self.pin:\n",
    "            amount = int(input(\"Enter the amount\"))\n",
    "            if amount<self.balance:\n",
    "                self.balance=self.balance-amount\n",
    "                print(\"Operation Successful\")\n",
    "            else:\n",
    "                print(\"Insufficient funds\")\n",
    "        else:\n",
    "            print(\"Invalid pin\")\n",
    "            \n",
    "    def check_balance(self):\n",
    "        temp=input(\"Enter your pin\")\n",
    "        if temp == self.pin:\n",
    "            print(self.balance)\n",
    "        else:\n",
    "            print(\"Invalid pin\")\n",
    "          \n",
    "\n",
    "\n",
    "       "
   ]
  },
  {
   "cell_type": "code",
   "execution_count": 13,
   "id": "7d26179c",
   "metadata": {},
   "outputs": [],
   "source": [
    "# SBI ATM"
   ]
  },
  {
   "cell_type": "code",
   "execution_count": 8,
   "id": "d3d2c3fc",
   "metadata": {},
   "outputs": [
    {
     "name": "stdout",
     "output_type": "stream",
     "text": [
      " Hello, how would you like to proceed?\n",
      "                               1. Enter 1 to create pin\n",
      "                               2. Enter 2 to deposit\n",
      "                               3. Enter 3 to withdraw\n",
      "                               4. Enter 4 to check balance\n",
      "                               5. Enter 5 to exit\n",
      "1\n",
      "Enter your pin1234\n",
      "Pin set sucessfully\n"
     ]
    }
   ],
   "source": [
    "sbi = ATM()"
   ]
  },
  {
   "cell_type": "code",
   "execution_count": 10,
   "id": "c8edbb4e",
   "metadata": {},
   "outputs": [
    {
     "name": "stdout",
     "output_type": "stream",
     "text": [
      "Enter your pin1234\n",
      "Enter the amount50000\n",
      "Deposit Successful\n"
     ]
    }
   ],
   "source": [
    "sbi.deposit()"
   ]
  },
  {
   "cell_type": "code",
   "execution_count": 11,
   "id": "21925940",
   "metadata": {},
   "outputs": [
    {
     "name": "stdout",
     "output_type": "stream",
     "text": [
      "Enter your pin1234\n",
      "50000\n"
     ]
    }
   ],
   "source": [
    "sbi.check_balance()"
   ]
  },
  {
   "cell_type": "code",
   "execution_count": 12,
   "id": "bf8dbe8d",
   "metadata": {},
   "outputs": [
    {
     "name": "stdout",
     "output_type": "stream",
     "text": [
      "Enter your pin1234\n",
      "Enter the amount25000\n",
      "Operation Successful\n"
     ]
    }
   ],
   "source": [
    "sbi.withdraw()"
   ]
  },
  {
   "cell_type": "code",
   "execution_count": 14,
   "id": "12b1862d",
   "metadata": {},
   "outputs": [],
   "source": [
    "# HDFC ATM"
   ]
  },
  {
   "cell_type": "code",
   "execution_count": 15,
   "id": "a90bcebf",
   "metadata": {},
   "outputs": [
    {
     "name": "stdout",
     "output_type": "stream",
     "text": [
      " Hello, how would you like to proceed?\n",
      "                               1. Enter 1 to create pin\n",
      "                               2. Enter 2 to deposit\n",
      "                               3. Enter 3 to withdraw\n",
      "                               4. Enter 4 to check balance\n",
      "                               5. Enter 5 to exit\n",
      "1\n",
      "Enter your pin5678\n",
      "Pin set sucessfully\n"
     ]
    }
   ],
   "source": [
    "hdfc = ATM()"
   ]
  },
  {
   "cell_type": "code",
   "execution_count": 16,
   "id": "2a7b5e8b",
   "metadata": {},
   "outputs": [
    {
     "name": "stdout",
     "output_type": "stream",
     "text": [
      "Enter your pin5678\n",
      "Enter the amount100000\n",
      "Deposit Successful\n"
     ]
    }
   ],
   "source": [
    "hdfc.deposit()"
   ]
  },
  {
   "cell_type": "code",
   "execution_count": 17,
   "id": "3b4bbc7e",
   "metadata": {},
   "outputs": [
    {
     "name": "stdout",
     "output_type": "stream",
     "text": [
      "Enter your pin5678\n",
      "Enter the amount978500\n",
      "Insufficient funds\n"
     ]
    }
   ],
   "source": [
    "hdfc.withdraw()"
   ]
  },
  {
   "cell_type": "code",
   "execution_count": null,
   "id": "72acd8b3",
   "metadata": {},
   "outputs": [],
   "source": []
  }
 ],
 "metadata": {
  "kernelspec": {
   "display_name": "Python 3 (ipykernel)",
   "language": "python",
   "name": "python3"
  },
  "language_info": {
   "codemirror_mode": {
    "name": "ipython",
    "version": 3
   },
   "file_extension": ".py",
   "mimetype": "text/x-python",
   "name": "python",
   "nbconvert_exporter": "python",
   "pygments_lexer": "ipython3",
   "version": "3.10.9"
  }
 },
 "nbformat": 4,
 "nbformat_minor": 5
}
