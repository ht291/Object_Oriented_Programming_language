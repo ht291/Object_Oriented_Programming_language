{
 "cells": [
  {
   "cell_type": "code",
   "execution_count": 9,
   "id": "caa79c84",
   "metadata": {},
   "outputs": [
    {
     "name": "stdout",
     "output_type": "stream",
     "text": [
      "250001\n"
     ]
    }
   ],
   "source": [
    "class Customer:\n",
    "    \n",
    "    def __init__(self,name,gender,address):\n",
    "        self.name = name\n",
    "        self.gender = gender\n",
    "        self.address = address\n",
    "        \n",
    "    def edit_profile(self,new_name,new_city,new_pin,new_state):\n",
    "        self.name = new_name\n",
    "        self.address.change_address(new_city,new_pin,new_state)\n",
    "\n",
    "class Address:\n",
    "    \n",
    "    def __init__(self,city,pincode,state):\n",
    "        self.city = city\n",
    "        self.pincode = pincode\n",
    "        self.state = state\n",
    "        \n",
    "    def change_address(self,new_city,new_pin,new_state):\n",
    "        self.city = new_city\n",
    "        self.pin = new_pin\n",
    "        self.state = new_state\n",
    "    \n",
    "add = Address(\"Meerut\",250001,\"UP\")\n",
    "cust = Customer(\"Harsh\",\"Male\",add)\n",
    "\n",
    "cust.edit_profile(\"Vikal\",\"Gurgaon\",122033,\"Haryana\")\n",
    "\n",
    "print(cust.address.pincode)"
   ]
  },
  {
   "cell_type": "code",
   "execution_count": null,
   "id": "9ecb49ee",
   "metadata": {},
   "outputs": [],
   "source": []
  }
 ],
 "metadata": {
  "kernelspec": {
   "display_name": "Python 3 (ipykernel)",
   "language": "python",
   "name": "python3"
  },
  "language_info": {
   "codemirror_mode": {
    "name": "ipython",
    "version": 3
   },
   "file_extension": ".py",
   "mimetype": "text/x-python",
   "name": "python",
   "nbconvert_exporter": "python",
   "pygments_lexer": "ipython3",
   "version": "3.10.9"
  }
 },
 "nbformat": 4,
 "nbformat_minor": 5
}
