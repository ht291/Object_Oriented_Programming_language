{
 "cells": [
  {
   "cell_type": "markdown",
   "id": "98f33179",
   "metadata": {},
   "source": [
    "#### A static method is a method that belongs to the class rather than an instance of the class.\n",
    "#### It is declared with the static keyword, and it can be called using the class name without creating an instance of the class.\n",
    "#### Static methods often perform operations that are not dependent on the state of a particular instance."
   ]
  },
  {
   "cell_type": "code",
   "execution_count": 1,
   "id": "bce8c4ee",
   "metadata": {},
   "outputs": [],
   "source": [
    "## INSTANCE VARIABLE are assigned inside the constructors\n",
    "## while STATIC VARIABLE are assigned outside the constructors"
   ]
  },
  {
   "cell_type": "code",
   "execution_count": 2,
   "id": "05dd0d74",
   "metadata": {},
   "outputs": [],
   "source": [
    "class ATM:\n",
    "\n",
    "# STATIC/CLASS VARIABLE    \n",
    "    counter = 1\n",
    "    \n",
    "    def __init__(self):    # __init__ is a constructor\n",
    "# \"Instance variable\" are those created inside constructor\n",
    "        self.__pin = \"\"\n",
    "        self.__balance = 0 \n",
    "        self.sno = ATM.counter\n",
    "        ATM.counter = ATM.counter + 1\n",
    "        self.__menu()\n",
    "# Making the instance variables \"private\"(double underscore __).\n",
    "    def __menu(self):\n",
    "        user_input = input(\"\"\" Hello, how would you like to proceed?\n",
    "                               1. Enter 1 to create pin\n",
    "                               2. Enter 2 to deposit\n",
    "                               3. Enter 3 to withdraw\n",
    "                               4. Enter 4 to check balance\n",
    "                               5. Enter 5 to exit\n",
    "\"\"\")\n",
    "        \n",
    "        if user_input == \"1\":\n",
    "            self.create_pin() \n",
    "        elif user_input == \"2\":\n",
    "            self.deposit()\n",
    "        elif user_input == \"3\":\n",
    "            self.withdraw()\n",
    "        elif user_input == \"4\":\n",
    "            self.check_balance()\n",
    "        else:\n",
    "            print(\"Bye\")\n",
    "            \n",
    "            \n",
    "    def create_pin(self):\n",
    "        self.__pin = input(\"Enter your pin\")\n",
    "        print(\"Pin set sucessfully\")\n",
    "        \n",
    "    def deposit(self):\n",
    "        temp=input(\"Enter your pin\")\n",
    "        if temp == self.__pin:\n",
    "            amount = int(input(\"Enter the amount\"))\n",
    "            self.__balance = self.__balance + amount\n",
    "            print(\"Deposit Successful\")\n",
    "        else:\n",
    "            print(\"Invalid pin\")\n",
    "\n",
    "            \n",
    "    def withdraw(self):\n",
    "        temp = input(\"Enter your pin\")\n",
    "        if temp == self.__pin:\n",
    "            amount = int(input(\"Enter the amount\"))\n",
    "            if amount<self.__balance:\n",
    "                self.__balance=self.__balance-amount\n",
    "                print(\"Operation Successful\")\n",
    "            else:\n",
    "                print(\"Insufficient funds\")\n",
    "        else:\n",
    "            print(\"Invalid pin\")\n",
    "            \n",
    "    def check_balance(self):\n",
    "        temp=input(\"Enter your pin\")\n",
    "        if temp == self.__pin:\n",
    "            print(self.__balance)\n",
    "        else:\n",
    "            print(\"Invalid pin\")\n",
    "          \n",
    "\n",
    "\n",
    "       "
   ]
  },
  {
   "cell_type": "code",
   "execution_count": 3,
   "id": "8d253123",
   "metadata": {},
   "outputs": [
    {
     "name": "stdout",
     "output_type": "stream",
     "text": [
      " Hello, how would you like to proceed?\n",
      "                               1. Enter 1 to create pin\n",
      "                               2. Enter 2 to deposit\n",
      "                               3. Enter 3 to withdraw\n",
      "                               4. Enter 4 to check balance\n",
      "                               5. Enter 5 to exit\n",
      "1\n",
      "Enter your pin1234\n",
      "Pin set sucessfully\n"
     ]
    }
   ],
   "source": [
    "c1 = ATM()"
   ]
  },
  {
   "cell_type": "code",
   "execution_count": 4,
   "id": "f8610139",
   "metadata": {},
   "outputs": [
    {
     "name": "stdout",
     "output_type": "stream",
     "text": [
      " Hello, how would you like to proceed?\n",
      "                               1. Enter 1 to create pin\n",
      "                               2. Enter 2 to deposit\n",
      "                               3. Enter 3 to withdraw\n",
      "                               4. Enter 4 to check balance\n",
      "                               5. Enter 5 to exit\n",
      "1\n",
      "Enter your pin2345\n",
      "Pin set sucessfully\n"
     ]
    }
   ],
   "source": [
    "c2=ATM()"
   ]
  },
  {
   "cell_type": "code",
   "execution_count": 5,
   "id": "b6c82f40",
   "metadata": {},
   "outputs": [
    {
     "name": "stdout",
     "output_type": "stream",
     "text": [
      " Hello, how would you like to proceed?\n",
      "                               1. Enter 1 to create pin\n",
      "                               2. Enter 2 to deposit\n",
      "                               3. Enter 3 to withdraw\n",
      "                               4. Enter 4 to check balance\n",
      "                               5. Enter 5 to exit\n",
      "1\n",
      "Enter your pin3456\n",
      "Pin set sucessfully\n"
     ]
    }
   ],
   "source": [
    "c3 = ATM()"
   ]
  },
  {
   "cell_type": "code",
   "execution_count": 6,
   "id": "93109661",
   "metadata": {},
   "outputs": [
    {
     "data": {
      "text/plain": [
       "1"
      ]
     },
     "execution_count": 6,
     "metadata": {},
     "output_type": "execute_result"
    }
   ],
   "source": [
    "c1.sno"
   ]
  },
  {
   "cell_type": "code",
   "execution_count": 7,
   "id": "7b638a47",
   "metadata": {},
   "outputs": [
    {
     "data": {
      "text/plain": [
       "2"
      ]
     },
     "execution_count": 7,
     "metadata": {},
     "output_type": "execute_result"
    }
   ],
   "source": [
    "c2.sno"
   ]
  },
  {
   "cell_type": "code",
   "execution_count": 8,
   "id": "9245ec80",
   "metadata": {},
   "outputs": [
    {
     "data": {
      "text/plain": [
       "3"
      ]
     },
     "execution_count": 8,
     "metadata": {},
     "output_type": "execute_result"
    }
   ],
   "source": [
    "c3.sno"
   ]
  },
  {
   "cell_type": "code",
   "execution_count": null,
   "id": "0599be30",
   "metadata": {},
   "outputs": [],
   "source": []
  }
 ],
 "metadata": {
  "kernelspec": {
   "display_name": "Python 3 (ipykernel)",
   "language": "python",
   "name": "python3"
  },
  "language_info": {
   "codemirror_mode": {
    "name": "ipython",
    "version": 3
   },
   "file_extension": ".py",
   "mimetype": "text/x-python",
   "name": "python",
   "nbconvert_exporter": "python",
   "pygments_lexer": "ipython3",
   "version": "3.10.9"
  }
 },
 "nbformat": 4,
 "nbformat_minor": 5
}
