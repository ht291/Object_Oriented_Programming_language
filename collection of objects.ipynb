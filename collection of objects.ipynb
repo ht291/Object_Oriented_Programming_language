{
 "cells": [
  {
   "cell_type": "code",
   "execution_count": 1,
   "id": "bf687d67",
   "metadata": {},
   "outputs": [
    {
     "name": "stdout",
     "output_type": "stream",
     "text": [
      "<__main__.Customer object at 0x000001CF56FAEF80>\n",
      "<__main__.Customer object at 0x000001CF56FAF9D0>\n",
      "<__main__.Customer object at 0x000001CF56FAEFE0>\n"
     ]
    }
   ],
   "source": [
    "class Customer:\n",
    "    \n",
    "    def __init__(self,name,age):\n",
    "        self.name = name\n",
    "        self.age = age\n",
    "c1 = Customer('Harsh',26)\n",
    "c2 = Customer('Vikal',34)\n",
    "c3 = Customer('Pallavi',36)\n",
    "\n",
    "L = [c1,c2,c3]\n",
    "\n",
    "for i in L:\n",
    "    print(i)"
   ]
  },
  {
   "cell_type": "code",
   "execution_count": 3,
   "id": "90763f33",
   "metadata": {},
   "outputs": [
    {
     "name": "stdout",
     "output_type": "stream",
     "text": [
      "Harsh 26\n",
      "Vikal 34\n",
      "Pallavi 36\n"
     ]
    }
   ],
   "source": [
    "for i in L:\n",
    "    print(i.name,i.age)"
   ]
  },
  {
   "cell_type": "code",
   "execution_count": null,
   "id": "b2a00812",
   "metadata": {},
   "outputs": [],
   "source": [
    "# List,tuples,dictionary ke aandar hum apne objects ko dal sakte hai"
   ]
  }
 ],
 "metadata": {
  "kernelspec": {
   "display_name": "Python 3 (ipykernel)",
   "language": "python",
   "name": "python3"
  },
  "language_info": {
   "codemirror_mode": {
    "name": "ipython",
    "version": 3
   },
   "file_extension": ".py",
   "mimetype": "text/x-python",
   "name": "python",
   "nbconvert_exporter": "python",
   "pygments_lexer": "ipython3",
   "version": "3.10.9"
  }
 },
 "nbformat": 4,
 "nbformat_minor": 5
}
